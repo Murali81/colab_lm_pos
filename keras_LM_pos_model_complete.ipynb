{
 "cells": [
  {
   "cell_type": "code",
   "execution_count": 1,
   "metadata": {},
   "outputs": [
    {
     "name": "stderr",
     "output_type": "stream",
     "text": [
      "C:\\Users\\kmura\\AppData\\Local\\Programs\\Python\\Python35\\lib\\site-packages\\h5py\\__init__.py:36: FutureWarning: Conversion of the second argument of issubdtype from `float` to `np.floating` is deprecated. In future, it will be treated as `np.float64 == np.dtype(float).type`.\n",
      "  from ._conv import register_converters as _register_converters\n",
      "Using TensorFlow backend.\n"
     ]
    },
    {
     "name": "stdout",
     "output_type": "stream",
     "text": [
      "WARNING:tensorflow:From C:\\Users\\kmura\\AppData\\Local\\Programs\\Python\\Python35\\lib\\site-packages\\tensorflow\\contrib\\learn\\python\\learn\\datasets\\base.py:198: retry (from tensorflow.contrib.learn.python.learn.datasets.base) is deprecated and will be removed in a future version.\n",
      "Instructions for updating:\n",
      "Use the retry module or similar alternatives.\n"
     ]
    }
   ],
   "source": [
    "import keras\n",
    "from keras.layers import Input, Dense\n",
    "from keras.models import Model\n",
    "from keras.utils import plot_model\n",
    "from numpy import array\n",
    "from keras.models import Sequential\n",
    "from keras.layers import Dense\n",
    "from keras.layers import TimeDistributed,Activation\n",
    "\n",
    "from keras.layers import LSTM\n",
    "from keras.layers import SimpleRNN\n",
    "from keras.layers.convolutional import Conv1D\n",
    "from keras.layers.convolutional import MaxPooling1D\n",
    "from keras.layers.embeddings import Embedding\n",
    "from keras.layers import Flatten\n",
    "from keras.preprocessing import sequence\n",
    "from keras.utils import to_categorical\n",
    "from keras.callbacks import Callback\n",
    "from keras.callbacks import ModelCheckpoint\n",
    "# from keras import backend as K\n",
    "# K.tensorflow_backend._get_available_gpus()"
   ]
  },
  {
   "cell_type": "code",
   "execution_count": 2,
   "metadata": {
    "collapsed": true
   },
   "outputs": [],
   "source": [
    "import numpy as np"
   ]
  },
  {
   "cell_type": "markdown",
   "metadata": {},
   "source": [
    "# Pre-process the data"
   ]
  },
  {
   "cell_type": "code",
   "execution_count": 3,
   "metadata": {
    "collapsed": true
   },
   "outputs": [],
   "source": [
    "from pickle import dump\n",
    "from pickle import load\n",
    "import pickle\n",
    "with open(\"data/telugu_pos_tag_data.pickle\",\"rb\") as fhnd:\n",
    "    total_data=pickle.load(fhnd)"
   ]
  },
  {
   "cell_type": "code",
   "execution_count": 4,
   "metadata": {
    "collapsed": true
   },
   "outputs": [],
   "source": [
    "word_to_idx=load(open(\"data/word_to_idx.pickle\",\"rb\"))\n",
    "\n",
    "pos_map=load(open(\"data/pos_map.pickle\",\"rb\"))"
   ]
  },
  {
   "cell_type": "markdown",
   "metadata": {},
   "source": [
    "# Converge all sentences into one big list and their pos tags into another simultaneous list\n",
    "\n",
    "# train_data = [1,3,4,2,789,........, 103589]"
   ]
  },
  {
   "cell_type": "code",
   "execution_count": 5,
   "metadata": {
    "collapsed": true
   },
   "outputs": [],
   "source": [
    "sentences=[]\n",
    "labels=[]\n",
    "\n",
    "train_data=[]\n",
    "label_data=[]\n",
    "\n",
    "target_task_indx_start=0\n",
    "target_task_indx_end=0\n",
    "\n",
    "length = 5\n",
    "\n",
    "\n",
    "for m,(sent,tag) in enumerate(total_data):\n",
    "    sentences+=sent\n",
    "    labels+=tag\n",
    "    for wrdi in sent:\n",
    "        res=word_to_idx[wrdi]\n",
    "        train_data.append(res)\n",
    "    \n",
    "    for tagi in tag:\n",
    "        res=pos_map[tagi]\n",
    "        label_data.append(res)\n",
    "    "
   ]
  },
  {
   "cell_type": "code",
   "execution_count": null,
   "metadata": {
    "collapsed": true
   },
   "outputs": [],
   "source": []
  },
  {
   "cell_type": "markdown",
   "metadata": {},
   "source": [
    "\n",
    "# For fit generator multiple outputs\n",
    "https://github.com/keras-team/keras/blob/master/keras/engine/training.py#L1128"
   ]
  },
  {
   "cell_type": "markdown",
   "metadata": {},
   "source": [
    "# Example\n",
    "        \n",
    "def generate_arrays_from_file(path):\n",
    "\n",
    "    while True:\n",
    "        with open(path) as f:\n",
    "            for line in f:\n",
    "                # create numpy arrays of input data\n",
    "                # and labels, from each line in the file\n",
    "                x1, x2, y = process_line(line)\n",
    "                yield ({'input_1': x1, 'input_2': x2}, {'output': y})\n",
    "\n",
    "model.fit_generator(generate_arrays_from_file('/my_file.txt'),steps_per_epoch=10000, epochs=10)\n",
    "   "
   ]
  },
  {
   "cell_type": "markdown",
   "metadata": {},
   "source": [
    "# Generator class"
   ]
  },
  {
   "cell_type": "code",
   "execution_count": 6,
   "metadata": {
    "collapsed": true
   },
   "outputs": [],
   "source": [
    "class KerasBatchGenerator(object):\n",
    "\n",
    "    def __init__(self, data, labeldata,num_steps, batch_size, vocabulary, pos_tag_size,skip_step):\n",
    "        self.data = data\n",
    "        self.num_steps = num_steps\n",
    "        self.batch_size = batch_size\n",
    "        self.vocabulary = vocabulary\n",
    "        self.labeldata=labeldata\n",
    "        self.pos_tag_size=pos_tag_size\n",
    "        # this will track the progress of the batches sequentially through the\n",
    "        # data set - once the data reaches the end of the data set it will reset\n",
    "        # back to zero\n",
    "        self.current_idx = 0\n",
    "        # skip_step is the number of words which will be skipped before the next\n",
    "        # batch is skimmed from the data set\n",
    "        self.skip_step = skip_step\n",
    "\n",
    "    def generate(self,phase=None):\n",
    "        x = np.zeros((self.batch_size, self.num_steps))\n",
    "        \n",
    "        if phase==None:\n",
    "            print(\"Phase not mentioned!!!!!\")\n",
    "            return \n",
    "        \n",
    "        if phase==1:\n",
    "            y = np.zeros((self.batch_size, self.vocabulary))\n",
    "        \n",
    "        if phase==2:\n",
    "            y = np.zeros((self.batch_size, self.vocabulary))\n",
    "            phase2_y = np.zeros((self.batch_size, self.num_steps, self.pos_tag_size))\n",
    "        \n",
    "\n",
    "        \n",
    "        while True:\n",
    "            for i in range(self.batch_size):\n",
    "                if self.current_idx + self.num_steps >= len(self.data):\n",
    "                    # reset the index back to the start of the data set\n",
    "                    self.current_idx = 0\n",
    "                \n",
    "                x[i, :] = self.data[self.current_idx:self.current_idx + self.num_steps]\n",
    "\n",
    "                \n",
    "                if phase==1:\n",
    "                    \n",
    "#                     temp_y = self.data[self.current_idx + 1:self.current_idx + self.num_steps + 1]\n",
    "                    temp_y = self.data[self.current_idx+self.num_steps]\n",
    "                    # convert all of temp_y into a one hot representation\n",
    "                    y[i, :] = to_categorical(temp_y, num_classes=self.vocabulary)\n",
    "#                     self.current_idx += self.skip_step                    \n",
    "                    yield x, y\n",
    "                \n",
    "                \n",
    "                elif phase==2:\n",
    "\n",
    "                    temp_y = self.data[self.current_idx +  self.num_steps ]\n",
    "                    # convert all of temp_y into a one hot representation\n",
    "                    y[i, :] = to_categorical(temp_y, num_classes=self.vocabulary)        \n",
    "                    temp_phase2_y = self.labeldata[self.current_idx:self.current_idx + self.num_steps]\n",
    "                    # convert all of temp_y into a one hot representation\n",
    "                    phase2_y[i, :, :] = to_categorical(temp_phase2_y, num_classes=self.pos_tag_size)\n",
    "                    yield ({'main_input': x}, {'LM_output': y,'POS_output':phase2_y})\n",
    "                self.current_idx += self.skip_step                    \n",
    "\n",
    "\n",
    "    \n",
    "            \n"
   ]
  },
  {
   "cell_type": "code",
   "execution_count": null,
   "metadata": {
    "collapsed": true
   },
   "outputs": [],
   "source": []
  },
  {
   "cell_type": "code",
   "execution_count": 7,
   "metadata": {
    "collapsed": true
   },
   "outputs": [],
   "source": [
    "vocabulary=len(word_to_idx)\n",
    "pos_tag_size=len(pos_map)"
   ]
  },
  {
   "cell_type": "code",
   "execution_count": 8,
   "metadata": {
    "collapsed": true
   },
   "outputs": [],
   "source": [
    "num_steps = 5\n",
    "batch_size = 20\n",
    "phase1_train_data_generator = KerasBatchGenerator(train_data,label_data, num_steps, batch_size, vocabulary,pos_tag_size,skip_step=1)\n",
    "phase2_train_data_generator = KerasBatchGenerator(train_data,label_data, num_steps, batch_size, vocabulary,pos_tag_size,skip_step=1)"
   ]
  },
  {
   "cell_type": "code",
   "execution_count": null,
   "metadata": {
    "collapsed": true
   },
   "outputs": [],
   "source": []
  },
  {
   "cell_type": "code",
   "execution_count": null,
   "metadata": {
    "collapsed": true
   },
   "outputs": [],
   "source": []
  },
  {
   "cell_type": "code",
   "execution_count": null,
   "metadata": {
    "collapsed": true
   },
   "outputs": [],
   "source": []
  },
  {
   "cell_type": "code",
   "execution_count": null,
   "metadata": {
    "collapsed": true
   },
   "outputs": [],
   "source": []
  },
  {
   "cell_type": "markdown",
   "metadata": {},
   "source": [
    "# ***** Actual required Design for the model *******"
   ]
  },
  {
   "cell_type": "code",
   "execution_count": 9,
   "metadata": {},
   "outputs": [
    {
     "name": "stdout",
     "output_type": "stream",
     "text": [
      "WARNING:tensorflow:From C:\\Users\\kmura\\AppData\\Local\\Programs\\Python\\Python35\\lib\\site-packages\\keras\\backend\\tensorflow_backend.py:1188: calling reduce_sum (from tensorflow.python.ops.math_ops) with keep_dims is deprecated and will be removed in a future version.\n",
      "Instructions for updating:\n",
      "keep_dims is deprecated, use keepdims instead\n",
      "(?, ?, 200)\n"
     ]
    }
   ],
   "source": [
    "max_input_length=num_steps\n",
    "embedding_dim=300\n",
    "vocab_size=vocabulary\n",
    "hidden_dim=200\n",
    "\n",
    "\n",
    "main_input = Input(shape=(max_input_length,), dtype='float32', name='main_input')\n",
    "\n",
    "# This embedding layer will encode the input sequence\n",
    "# into a sequence of dense 512-dimensional vectors.\n",
    "\n",
    "x = Embedding(output_dim=embedding_dim, input_dim=vocab_size, input_length=max_input_length,name=\"embedding\")(main_input)\n",
    "\n",
    "# A LSTM will transform the vector sequence into a single vector,\n",
    "# containing information about the entire sequence\n",
    "lstm_out,state_h, state_c = LSTM(hidden_dim,return_sequences=True, return_state=True,name=\"LSTM\")(x)\n",
    "\n",
    "print(lstm_out.shape)\n",
    "\n",
    "auxiliary_output = TimeDistributed(Dense(pos_tag_size, activation='sigmoid'), name='POS_output')(lstm_out)\n",
    "\n",
    "# auxiliary_output = Dense(1, activation='sigmoid', name='aux_output')(lstm_out)\n",
    "\n",
    "# auxiliary_input = Input(shape=(5,), name='aux_input')\n",
    "# x = keras.layers.concatenate([lstm_out, auxiliary_input])\n",
    "\n",
    "\n",
    "# We stack a deep densely-connected network on top\n",
    "\n",
    "# x = Dense(400, activation='relu',name=\"dense\")(state_h)\n",
    "\n",
    "# x = Dense(64, activation='relu')(x)\n",
    "# x = Dense(64, activation='relu')(x)\n",
    "\n",
    "# And finally we add the main logistic regression layer\n",
    "main_output = Dense(vocab_size, activation='softmax', name='LM_output')(state_h)\n",
    "\n",
    "phase1_model= Model(inputs=[main_input], outputs=[main_output])\n",
    "phase2_model = Model(inputs=[main_input], outputs=[main_output, auxiliary_output])"
   ]
  },
  {
   "cell_type": "markdown",
   "metadata": {},
   "source": [
    "# Compiling the models"
   ]
  },
  {
   "cell_type": "code",
   "execution_count": 10,
   "metadata": {},
   "outputs": [
    {
     "name": "stdout",
     "output_type": "stream",
     "text": [
      "WARNING:tensorflow:From C:\\Users\\kmura\\AppData\\Local\\Programs\\Python\\Python35\\lib\\site-packages\\keras\\backend\\tensorflow_backend.py:1290: calling reduce_mean (from tensorflow.python.ops.math_ops) with keep_dims is deprecated and will be removed in a future version.\n",
      "Instructions for updating:\n",
      "keep_dims is deprecated, use keepdims instead\n"
     ]
    }
   ],
   "source": [
    "phase2_model.compile(loss={'LM_output': 'categorical_crossentropy', 'POS_output': 'mse'},optimizer='rmsprop',metrics=['accuracy'])\n",
    "phase1_model.compile(loss={'LM_output': 'categorical_crossentropy'},optimizer='adam',metrics=['accuracy'])\n",
    "\n",
    "# model.compile(optimizer='rmsprop',\n",
    "#               loss={'main_output': 'binary_crossentropy', 'aux_output': 'binary_crossentropy'},\n",
    "#               loss_weights={'main_output': 1., 'aux_output': 0.2})\n"
   ]
  },
  {
   "cell_type": "markdown",
   "metadata": {},
   "source": [
    "# Save the models to image files and display them"
   ]
  },
  {
   "cell_type": "code",
   "execution_count": 11,
   "metadata": {
    "collapsed": true
   },
   "outputs": [],
   "source": [
    "plot_model(phase1_model,to_file='phase1_model_mine.png',show_shapes=True)\n",
    "plot_model(phase2_model,to_file='phase2_model_mine.png',show_shapes=True)\n"
   ]
  },
  {
   "cell_type": "markdown",
   "metadata": {},
   "source": [
    "# Phase 1 model architecture"
   ]
  },
  {
   "cell_type": "code",
   "execution_count": 12,
   "metadata": {},
   "outputs": [
    {
     "data": {
      "image/png": "[encoded data removed]",
      "text/plain": [
       "<IPython.core.display.Image object>"
      ]
     },
     "execution_count": 12,
     "metadata": {},
     "output_type": "execute_result"
    }
   ],
   "source": [
    "from IPython.display import Image\n",
    "Image(\"phase1_model_mine.png\")\n"
   ]
  },
  {
   "cell_type": "markdown",
   "metadata": {},
   "source": [
    "# Phase 2 model architecture"
   ]
  },
  {
   "cell_type": "code",
   "execution_count": 13,
   "metadata": {},
   "outputs": [
    {
     "data": {
      "image/png": "[encoded data removed]",
      "text/plain": [
       "<IPython.core.display.Image object>"
      ]
     },
     "execution_count": 13,
     "metadata": {},
     "output_type": "execute_result"
    }
   ],
   "source": [
    "Image(\"phase2_model_mine.png\")"
   ]
  },
  {
   "cell_type": "markdown",
   "metadata": {},
   "source": [
    "# Creating random data. Phase 2 y label has (100, 30, 38) shape. Phase 1 y label has (100, 23138). X has (100,30). 30 is the time sequences. 23138 is vocab size.\n",
    "\n",
    "# 38 is the number of pos tags \n"
   ]
  },
  {
   "cell_type": "code",
   "execution_count": 124,
   "metadata": {
    "collapsed": true
   },
   "outputs": [],
   "source": [
    "# import numpy as np\n",
    "# TRAIN_SIZE = 100\n",
    "# # x=np.random.uniform(0, 10, (TRAIN_SIZE, 2))\n",
    "# x=np.random.randint(10, size=(TRAIN_SIZE,30))\n",
    "# print(\"x is \",x[0])\n",
    "# print(\"x shape is \",x.shape)\n",
    "# phase2_y=np.random.randint(10, size=(TRAIN_SIZE,30))\n",
    "# phase1_Y=np.random.randint(10, size=TRAIN_SIZE)\n",
    "# phase1_Y=to_categorical(phase1_Y,23138)\n",
    "# print(phase2_y[0])\n",
    "\n",
    "# sequences = [to_categorical(y, num_classes=38) for y in phase2_y]\n",
    "# phase2_y = array(sequences)\n",
    "\n",
    "\n",
    "# # print(phase1_Y[0])\n",
    "\n",
    "# # print(len(x))\n",
    "# # print(len(phase1_Y))\n",
    "# print(phase2_y[0])\n",
    "# print(phase2_y.shape)\n",
    "# print(phase1_Y.shape)"
   ]
  },
  {
   "cell_type": "markdown",
   "metadata": {},
   "source": [
    "# Fitting the data to phase1 model(Language model)."
   ]
  },
  {
   "cell_type": "code",
   "execution_count": 14,
   "metadata": {
    "collapsed": true
   },
   "outputs": [],
   "source": [
    "num_epochs=20"
   ]
  },
  {
   "cell_type": "code",
   "execution_count": 15,
   "metadata": {
    "collapsed": true
   },
   "outputs": [],
   "source": [
    "phase1_checkpointer = ModelCheckpoint('data/phase1_model-{epoch:20}.hdf5', verbose=1)"
   ]
  },
  {
   "cell_type": "code",
   "execution_count": null,
   "metadata": {
    "scrolled": true
   },
   "outputs": [
    {
     "name": "stdout",
     "output_type": "stream",
     "text": [
      "Epoch 1/20\n",
      "5179/5179 [==============================] - 202s - loss: 5.1258 - acc: 0.3321   \n",
      "Epoch 2/20\n",
      "5179/5179 [==============================] - 206s - loss: 3.7708 - acc: 0.5502   \n",
      "Epoch 3/20\n",
      "5179/5179 [==============================] - 206s - loss: 4.8412 - acc: 0.5163   \n",
      "Epoch 4/20\n",
      "5179/5179 [==============================] - 206s - loss: 6.0779 - acc: 0.5053   \n",
      "Epoch 5/20\n",
      "5179/5179 [==============================] - 205s - loss: 7.4971 - acc: 0.4390   \n",
      "Epoch 6/20\n",
      " 159/5179 [..............................] - ETA: 198s - loss: 6.9453 - acc: 0.4623"
     ]
    }
   ],
   "source": [
    "# phase1_model.fit_generator(phase1_train_data_generator.generate(phase=1), len(train_data)//(batch_size*num_steps), num_epochs, callbacks=[checkpointer])\n",
    "\n",
    "skip_steps=1\n",
    "phase1_model.fit_generator(phase1_train_data_generator.generate(phase=1), len(train_data)//(batch_size*skip_steps), num_epochs)\n",
    "\n",
    "\n",
    "# model.fit_generator(train_data_generator.generate(), 2000, num_epochs,\n",
    "    #                     validation_data=valid_data_generator.generate(),\n",
    "    #                     validation_steps=10)\n"
   ]
  },
  {
   "cell_type": "code",
   "execution_count": 81,
   "metadata": {
    "collapsed": true
   },
   "outputs": [],
   "source": [
    "phase1_model.save(\"data/phase1_model.hdf5\")"
   ]
  },
  {
   "cell_type": "code",
   "execution_count": 3,
   "metadata": {
    "collapsed": true,
    "scrolled": true
   },
   "outputs": [],
   "source": [
    "# phase1_model.fit(x,{'LM_output':phase1_Y},epochs=20)"
   ]
  },
  {
   "cell_type": "markdown",
   "metadata": {},
   "source": [
    "# Store the weights of phase 1 model's layers"
   ]
  },
  {
   "cell_type": "code",
   "execution_count": 82,
   "metadata": {
    "collapsed": true
   },
   "outputs": [],
   "source": [
    "phase1_model_weights = [(layer.name,layer.get_weights()) for layer in phase1_model.layers]"
   ]
  },
  {
   "cell_type": "code",
   "execution_count": null,
   "metadata": {
    "collapsed": true,
    "scrolled": true
   },
   "outputs": [],
   "source": [
    "for w in phase1_model_weights:\n",
    "    print(w)"
   ]
  },
  {
   "cell_type": "markdown",
   "metadata": {},
   "source": [
    "# For every phase1 model layer that is present in phase2, we assign the stored \n",
    "\n",
    "# weights to the corresponding layers."
   ]
  },
  {
   "cell_type": "code",
   "execution_count": 103,
   "metadata": {},
   "outputs": [
    {
     "name": "stdout",
     "output_type": "stream",
     "text": [
      "main_input  layer weights are assigned \n",
      "embedding  layer weights are assigned \n",
      "LSTM  layer weights are assigned \n",
      "dense  layer weights are assigned \n",
      "LM_output  layer weights are assigned \n"
     ]
    }
   ],
   "source": [
    "for i in range(len(phase1_model_weights)):\n",
    "    if not phase2_model.get_layer(phase1_model_weights[i][0])==None:\n",
    "        print(phase1_model_weights[i][0],\" layer weights are assigned \")\n",
    "        phase2_model.get_layer(phase1_model_weights[i][0]).set_weights(phase1_model_weights[i][1])\n",
    "    else:\n",
    "        print(phase1_model_weights[i][0],\" layer with weights \",phase1_model_weights[i][1],\" are not copied\")"
   ]
  },
  {
   "cell_type": "markdown",
   "metadata": {},
   "source": [
    "# Run phase2_model . phase2_model.fit"
   ]
  },
  {
   "cell_type": "code",
   "execution_count": null,
   "metadata": {
    "collapsed": true
   },
   "outputs": [],
   "source": [
    "# phase2_model.fit_generator(phase2_train_data_generator.generate(phase=2), len(train_data)//(batch_size*num_steps), num_epochs, callbacks=[checkpointer])\n",
    "phase2_model.fit_generator(phase2_train_data_generator.generate(phase=2), len(train_data)//(batch_size), num_epochs)\n",
    "\n",
    "    # model.fit_generator(train_data_generator.generate(), 2000, num_epochs,\n",
    "    #                     validation_data=valid_data_generator.generate(),\n",
    "    #                     validation_steps=10)\n",
    "phase2_model.save(\"phase2_model.hdf5\")"
   ]
  },
  {
   "cell_type": "code",
   "execution_count": 4,
   "metadata": {
    "collapsed": true,
    "scrolled": true
   },
   "outputs": [],
   "source": [
    "# model.add(Activation('softmax'))\n",
    "\n",
    "# phase2_model.fit(x,{'LM_output':phase1_Y,'POS_output':phase2_y},epochs=20)"
   ]
  },
  {
   "cell_type": "markdown",
   "metadata": {},
   "source": [
    "# < E O Required Model>"
   ]
  },
  {
   "cell_type": "markdown",
   "metadata": {},
   "source": [
    "# Reference stuff below"
   ]
  },
  {
   "cell_type": "code",
   "execution_count": null,
   "metadata": {
    "collapsed": true
   },
   "outputs": [],
   "source": []
  },
  {
   "cell_type": "code",
   "execution_count": null,
   "metadata": {
    "collapsed": true
   },
   "outputs": [],
   "source": []
  },
  {
   "cell_type": "code",
   "execution_count": 13,
   "metadata": {
    "collapsed": true
   },
   "outputs": [],
   "source": [
    "temp_weights = [(layer.name,layer.get_weights()) for layer in model.layers]"
   ]
  },
  {
   "cell_type": "code",
   "execution_count": null,
   "metadata": {
    "collapsed": true
   },
   "outputs": [],
   "source": [
    "for w in temp_weights:\n",
    "    print(w)"
   ]
  },
  {
   "cell_type": "code",
   "execution_count": null,
   "metadata": {
    "collapsed": true
   },
   "outputs": [],
   "source": [
    "for i in range(len(temp_weights)):\n",
    "    model.layers[i].set_weights(temp_weights[i])\n",
    "    \n",
    "# model.get_layer(\"aux_output\")"
   ]
  },
  {
   "cell_type": "code",
   "execution_count": null,
   "metadata": {
    "collapsed": true
   },
   "outputs": [],
   "source": []
  }
 ],
 "metadata": {
  "kernelspec": {
   "display_name": "python35",
   "language": "python",
   "name": "python35"
  },
  "language_info": {
   "codemirror_mode": {
    "name": "ipython",
    "version": 3
   },
   "file_extension": ".py",
   "mimetype": "text/x-python",
   "name": "python",
   "nbconvert_exporter": "python",
   "pygments_lexer": "ipython3",
   "version": "3.5.2"
  }
 },
 "nbformat": 4,
 "nbformat_minor": 2
}
